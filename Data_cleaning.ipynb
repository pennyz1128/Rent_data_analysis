{
 "cells": [
  {
   "cell_type": "code",
   "execution_count": 1,
   "metadata": {},
   "outputs": [],
   "source": [
    "import pandas as pd\n",
    "import numpy as np\n",
    "import re\n",
    "import requests"
   ]
  },
  {
   "cell_type": "code",
   "execution_count": 2,
   "metadata": {},
   "outputs": [],
   "source": [
    "apartment = pd.read_csv('D:\\\\0.My data career path\\\\DA项目课\\\\总数据.csv', encoding='utf-8')\n",
    "apartment.columns = ['title', 'link', 'move_in', 'column_a', 'column_b', \n",
    "  'summary', 'address', 'rent', 'condition_a', 'condition_b', 'facilities', \n",
    "  'community_facility', 'benefits', 'address?']"
   ]
  },
  {
   "cell_type": "markdown",
   "metadata": {},
   "source": [
    "# 提取卧室，卫浴，可住人数"
   ]
  },
  {
   "cell_type": "code",
   "execution_count": 3,
   "metadata": {},
   "outputs": [],
   "source": [
    "# 卧室数量\n",
    "apartment['rooms'] = apartment['condition_a'].apply(lambda x: \n",
    "  re.findall(r'卧室[0-9.]个', str(x))[0] if re.findall(r'卧室[0-9.]+个', str(x)) \n",
    "  else np.nan).str.extract('(\\d+)')\n",
    "# 卫浴数量\n",
    "apartment['bathrooms'] = apartment['condition_a'].apply(lambda x: \n",
    "  re.findall(r'卫浴[0-9.]个', str(x))[0] if re.findall(r'卫浴[0-9.]+个', str(x)) \n",
    "  else np.nan).str.extract('(\\d+)')\n",
    "# 可住人数\n",
    "apartment['residents'] = apartment['condition_a'].apply(lambda x: \n",
    "    re.findall(r'可住[0-9.]人', str(x))[0] if re.findall(r'可住[0-9.]人', str(x)) \n",
    "    else np.nan).str.extract('(\\d+)')\n"
   ]
  },
  {
   "cell_type": "markdown",
   "metadata": {},
   "source": [
    "# 格式化入住时间和是否包含家具（Boolean）"
   ]
  },
  {
   "cell_type": "code",
   "execution_count": 4,
   "metadata": {},
   "outputs": [],
   "source": [
    "# 可入住时间 （我觉得随时入住，应该设置时间为帖子po出时间，但没有帖子时间，raw data或许有）\n",
    "apartment['move_in'].drop_duplicates()\n",
    "\n",
    "def move_in_time(x):\n",
    "    if str(x).startswith('随时入住'):\n",
    "        return pd.to_datetime('today').strftime(\"%Y-%m-%d\")\n",
    "    else:\n",
    "        return pd.to_datetime(re.findall(r'^[0-9\\-]+', str(x))[0]).strftime(\"%Y-%m-%d\")\n",
    "\n",
    "apartment['start_date'] = apartment['move_in'].apply(lambda x: move_in_time(x))"
   ]
  },
  {
   "cell_type": "code",
   "execution_count": 5,
   "metadata": {},
   "outputs": [],
   "source": [
    "# 是否包含家具\n",
    "apartment['furnished'] = apartment['condition_a'].apply(\n",
    "    lambda x: 1 if re.findall(r'家具包含', str(x)) else 0)"
   ]
  },
  {
   "cell_type": "markdown",
   "metadata": {},
   "source": [
    "# 距离各个校区的步行距离和坐车距离"
   ]
  },
  {
   "cell_type": "code",
   "execution_count": 6,
   "metadata": {},
   "outputs": [],
   "source": [
    "Places = apartment['benefits'].apply(lambda x: re.findall(r'(.+?)：', str(x)))"
   ]
  },
  {
   "cell_type": "code",
   "execution_count": 7,
   "metadata": {},
   "outputs": [],
   "source": [
    "places = set()\n",
    "for item in Places:\n",
    "    for it in item:\n",
    "        i_tmp = it.replace(' ', '')\n",
    "        i = i_tmp.replace('Campus','校区') # campus和校区一样\n",
    "        if i and i!='nan': \n",
    "            places.add(i)"
   ]
  },
  {
   "cell_type": "code",
   "execution_count": 8,
   "metadata": {},
   "outputs": [
    {
     "data": {
      "text/plain": [
       "{'悉尼大学',\n",
       " '悉尼电影学院',\n",
       " '悉尼科技大学',\n",
       " '拉筹伯大学悉尼校区',\n",
       " '新南威尔士大学',\n",
       " '新南威尔士大学Paddington校区',\n",
       " '泰勒学院',\n",
       " '泰勒语言学校',\n",
       " '西悉尼大学',\n",
       " '西悉尼大学Campbelltown分校',\n",
       " '西悉尼大学Parramatta分校',\n",
       " '麦考瑞大学'}"
      ]
     },
     "execution_count": 8,
     "metadata": {},
     "output_type": "execute_result"
    }
   ],
   "source": [
    "places"
   ]
  },
  {
   "cell_type": "code",
   "execution_count": 9,
   "metadata": {},
   "outputs": [],
   "source": [
    "# 提取走路距离数据\n",
    "def walk_distance(surrounding, s):\n",
    "    replaced_str = s.replace('\\n','')\n",
    "    end_index = re.search(surrounding,replaced_str).end()\n",
    "    sub_str = replaced_str[end_index+1:end_index+22]\n",
    "    if re.search(surrounding,replaced_str)!= None:\n",
    "        return re.findall(r'步行距离(.+?)M',sub_str)\n",
    "\n",
    "# 提取坐车距离数据\n",
    "def bus_distance(surrounding, s):\n",
    "    replaced_str = s.replace('\\n','')\n",
    "    end_index = re.search(surrounding,replaced_str).end()\n",
    "    sub_str = replaced_str[end_index+1:end_index+22]\n",
    "    if re.search(surrounding,replaced_str)!= None:\n",
    "        return re.findall(r'坐车距离(.+?)M',sub_str)\n",
    "\n",
    "def get_num(mlist):\n",
    "    if len(mlist) == 0:\n",
    "        return np.nan\n",
    "    else:\n",
    "        return int(mlist[0])"
   ]
  },
  {
   "cell_type": "code",
   "execution_count": 10,
   "metadata": {},
   "outputs": [],
   "source": [
    "for place in places:\n",
    "    apartment[place+'步行距离'] = apartment['benefits'].apply(lambda x: get_num(walk_distance(place,str(x))) if place in str(x) else np.nan)"
   ]
  },
  {
   "cell_type": "code",
   "execution_count": 11,
   "metadata": {},
   "outputs": [],
   "source": [
    "for place in places:\n",
    "    apartment[place+'坐车距离'] = apartment['benefits'].apply(lambda x: get_num(bus_distance(place,str(x))) if place in str(x) else np.nan)"
   ]
  },
  {
   "cell_type": "markdown",
   "metadata": {},
   "source": [
    "# 租金和地址的错位，地址删除多余字段"
   ]
  },
  {
   "cell_type": "code",
   "execution_count": 12,
   "metadata": {},
   "outputs": [],
   "source": [
    "# 交换错误的address和rent\n",
    "i = -1\n",
    "for add in apartment['address']:\n",
    "    i +=1\n",
    "    if str(add).find('$') != -1:\n",
    "        apartment.loc[i, ['address', 'rent']] = apartment.loc[i, ['rent', 'address']].to_numpy()\n",
    "#         print(apartment.loc[i,['address', 'rent']])"
   ]
  },
  {
   "cell_type": "code",
   "execution_count": 13,
   "metadata": {},
   "outputs": [],
   "source": [
    "def address_replace(add):\n",
    "    if str(add).find('$') != -1:\n",
    "        return ''\n",
    "    else:\n",
    "        tmp = str(add).replace('查看地图','')\n",
    "        return tmp.replace('澳大利亚',',Australia')\n",
    "\n",
    "apartment['address']= apartment['address'].apply(lambda x: address_replace(x))"
   ]
  },
  {
   "cell_type": "code",
   "execution_count": 14,
   "metadata": {},
   "outputs": [],
   "source": [
    "# 租金 per week\n",
    "apartment['rent'] = apartment['move_in'].apply(lambda x: \n",
    "    re.findall(r'.*?/周', str(x))[0] if re.findall(r'.*?/周', str(x)) \n",
    "    else np.nan).str.extract('(\\d+)')"
   ]
  },
  {
   "cell_type": "markdown",
   "metadata": {},
   "source": [
    "# 设施和周边的明细"
   ]
  },
  {
   "cell_type": "code",
   "execution_count": 15,
   "metadata": {},
   "outputs": [],
   "source": [
    "apartment.loc[(apartment['condition_b'].apply(\n",
    "    lambda x: str(x).strip().startswith('公寓设施') if x else False))&(\n",
    "    apartment['facilities'].apply(\n",
    "    lambda x: not str(x).startswith('公寓设施') if x else False    \n",
    "    )), ['condition_b', 'facilities']] = apartment.loc[\n",
    "    (apartment['condition_b'].apply(lambda x: str(x).strip().startswith('公寓设施') if x else False)) &(apartment['facilities'].apply(\n",
    "    lambda x: not str(x).startswith('公寓设施') if x else False)\n",
    "    ), ['facilities', 'condition_b']].values"
   ]
  },
  {
   "cell_type": "code",
   "execution_count": 16,
   "metadata": {},
   "outputs": [],
   "source": [
    "Facilities = apartment['facilities'].apply(lambda x: str(x).split(' '))"
   ]
  },
  {
   "cell_type": "code",
   "execution_count": 17,
   "metadata": {},
   "outputs": [],
   "source": [
    "facility = set()\n",
    "for item in Facilities:\n",
    "    for it in item:\n",
    "        if it and it!='nan': \n",
    "            facility.add(it.replace('\\n', ''))\n"
   ]
  },
  {
   "cell_type": "code",
   "execution_count": 18,
   "metadata": {},
   "outputs": [],
   "source": [
    "cols = facility.difference({'公寓周边', '公寓设施'})"
   ]
  },
  {
   "cell_type": "code",
   "execution_count": 19,
   "metadata": {},
   "outputs": [],
   "source": [
    "for col in cols:\n",
    "    apartment[col] = apartment['facilities'].apply(lambda x: 1 if x and col in str(x) else 0)"
   ]
  },
  {
   "cell_type": "markdown",
   "metadata": {},
   "source": [
    "# 删除提取前多余的列"
   ]
  },
  {
   "cell_type": "code",
   "execution_count": 20,
   "metadata": {},
   "outputs": [],
   "source": [
    "apartment.drop(['move_in', 'column_a','column_b','condition_a','condition_b','address?','benefits','community_facility','facilities','summary'],axis=1,inplace=True)"
   ]
  },
  {
   "cell_type": "markdown",
   "metadata": {},
   "source": [
    "# 删掉全为空的column"
   ]
  },
  {
   "cell_type": "code",
   "execution_count": 21,
   "metadata": {},
   "outputs": [
    {
     "data": {
      "text/plain": [
       "51"
      ]
     },
     "execution_count": 21,
     "metadata": {},
     "output_type": "execute_result"
    }
   ],
   "source": [
    "len(apartment.columns)"
   ]
  },
  {
   "cell_type": "code",
   "execution_count": 22,
   "metadata": {},
   "outputs": [],
   "source": [
    "def del_nul_col(col_name):\n",
    "    ser = pd.isnull(apartment[col_name]).value_counts()\n",
    "    if len(ser) == 1:\n",
    "        if ser.index[0] == True:\n",
    "            apartment.drop([col_name],axis=1,inplace=True)\n",
    "    \n",
    "for col in apartment.columns:\n",
    "    del_nul_col(col)"
   ]
  },
  {
   "cell_type": "code",
   "execution_count": 23,
   "metadata": {},
   "outputs": [
    {
     "data": {
      "text/plain": [
       "Index(['title', 'link', 'address', 'rent', 'rooms', 'bathrooms', 'residents',\n",
       "       'start_date', 'furnished', '悉尼大学步行距离', '新南威尔士大学Paddington校区步行距离',\n",
       "       '西悉尼大学Campbelltown分校步行距离', '新南威尔士大学步行距离', '麦考瑞大学步行距离', '悉尼科技大学步行距离',\n",
       "       '泰勒学院步行距离', '拉筹伯大学悉尼校区步行距离', '泰勒语言学校步行距离', '悉尼电影学院步行距离',\n",
       "       '西悉尼大学Parramatta分校步行距离', '西悉尼大学步行距离', '悉尼大学坐车距离',\n",
       "       '新南威尔士大学Paddington校区坐车距离', '新南威尔士大学坐车距离', '麦考瑞大学坐车距离', '悉尼科技大学坐车距离',\n",
       "       '泰勒学院坐车距离', '泰勒语言学校坐车距离', '悉尼电影学院坐车距离', '西悉尼大学Parramatta分校坐车距离',\n",
       "       '西悉尼大学坐车距离', 'WIFI', '厨房', '游泳池', '餐馆', '火车站', '冰箱', '公园', '公交站', '电梯',\n",
       "       '空调', '阳台', '健身房', '包bill', '洗衣机', '电视', '超市', '收起', '近city'],\n",
       "      dtype='object')"
      ]
     },
     "execution_count": 23,
     "metadata": {},
     "output_type": "execute_result"
    }
   ],
   "source": [
    "apartment.columns"
   ]
  },
  {
   "cell_type": "markdown",
   "metadata": {},
   "source": [
    "# 导出cleaned文件"
   ]
  },
  {
   "cell_type": "code",
   "execution_count": 24,
   "metadata": {},
   "outputs": [],
   "source": [
    "apartment.to_csv(\"D:\\\\0.My data career path\\\\DA项目课\\\\总数据_cleaned.csv\")"
   ]
  },
  {
   "cell_type": "markdown",
   "metadata": {},
   "source": [
    "# Request经纬度"
   ]
  },
  {
   "cell_type": "code",
   "execution_count": 25,
   "metadata": {},
   "outputs": [],
   "source": [
    "# 由于 Request时间较长，只获取了50个sample\n",
    "sample_apartment = apartment.sample(50)"
   ]
  },
  {
   "cell_type": "code",
   "execution_count": 26,
   "metadata": {},
   "outputs": [],
   "source": [
    "def geocode(address):\n",
    "    base = url = \"http://api.map.baidu.com/geocoder?address=\" + address + \"&output=json&key=f247cdb592eb43ebac6ccd27f796e2d2\"\n",
    "    response = requests.get(base)\n",
    "    answer = response.json()\n",
    "    return answer['result']['location']['lng'],answer['result']['location']['lat']"
   ]
  },
  {
   "cell_type": "code",
   "execution_count": 27,
   "metadata": {},
   "outputs": [],
   "source": [
    "sample_apartment['geocode'] = sample_apartment['address'].apply(lambda x: geocode(str(x)) if x != '' else (0,0))"
   ]
  },
  {
   "cell_type": "code",
   "execution_count": 28,
   "metadata": {},
   "outputs": [
    {
     "data": {
      "text/plain": [
       "2706    (116.413384, 39.910925)\n",
       "2935    (116.413384, 39.910925)\n",
       "2436    (116.413384, 39.910925)\n",
       "1740    (116.413384, 39.910925)\n",
       "1033    (116.462685, 39.924496)\n",
       "2677    (116.413384, 39.910925)\n",
       "2340    (116.413384, 39.910925)\n",
       "2160    (116.413384, 39.910925)\n",
       "2916    (116.413384, 39.910925)\n",
       "833     (116.413384, 39.910925)\n",
       "1488    (116.413384, 39.910925)\n",
       "2834    (116.413384, 39.910925)\n",
       "2097    (116.413384, 39.910925)\n",
       "155     (116.413384, 39.910925)\n",
       "2869    (116.413384, 39.910925)\n",
       "332                      (0, 0)\n",
       "702     (116.413384, 39.910925)\n",
       "1719    (116.413384, 39.910925)\n",
       "2317    (116.413384, 39.910925)\n",
       "2446    (116.413384, 39.910925)\n",
       "2379    (116.413384, 39.910925)\n",
       "821     (116.413384, 39.910925)\n",
       "2020    (116.413384, 39.910925)\n",
       "1982    (116.413384, 39.910925)\n",
       "1215    (116.413384, 39.910925)\n",
       "160     (116.413384, 39.910925)\n",
       "804     (116.413384, 39.910925)\n",
       "1509    (116.413384, 39.910925)\n",
       "1666    (116.413384, 39.910925)\n",
       "809     (116.413384, 39.910925)\n",
       "406                      (0, 0)\n",
       "2825    (116.413384, 39.910925)\n",
       "2447    (116.413384, 39.910925)\n",
       "2833    (116.413384, 39.910925)\n",
       "1483    (116.413384, 39.910925)\n",
       "191     (116.520614, 39.937428)\n",
       "2154    (116.413384, 39.910925)\n",
       "1807    (116.413384, 39.910925)\n",
       "861     (116.413384, 39.910925)\n",
       "1144    (116.413384, 39.910925)\n",
       "1870    (116.413384, 39.910925)\n",
       "20      (116.413384, 39.910925)\n",
       "456                      (0, 0)\n",
       "470                      (0, 0)\n",
       "1552    (116.413384, 39.910925)\n",
       "154     (116.413384, 39.910925)\n",
       "1786    (116.413384, 39.910925)\n",
       "1653    (116.413384, 39.910925)\n",
       "1471    (116.413384, 39.910925)\n",
       "2388    (116.413384, 39.910925)\n",
       "Name: geocode, dtype: object"
      ]
     },
     "execution_count": 28,
     "metadata": {},
     "output_type": "execute_result"
    }
   ],
   "source": [
    "sample_apartment['geocode']"
   ]
  },
  {
   "cell_type": "code",
   "execution_count": null,
   "metadata": {},
   "outputs": [],
   "source": []
  }
 ],
 "metadata": {
  "kernelspec": {
   "display_name": "Python 3",
   "language": "python",
   "name": "python3"
  },
  "language_info": {
   "codemirror_mode": {
    "name": "ipython",
    "version": 3
   },
   "file_extension": ".py",
   "mimetype": "text/x-python",
   "name": "python",
   "nbconvert_exporter": "python",
   "pygments_lexer": "ipython3",
   "version": "3.7.4"
  }
 },
 "nbformat": 4,
 "nbformat_minor": 2
}
